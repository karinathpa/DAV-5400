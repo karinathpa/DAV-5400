{
 "cells": [
  {
   "cell_type": "code",
   "execution_count": 99,
   "id": "c0866cec",
   "metadata": {
    "scrolled": true
   },
   "outputs": [
    {
     "name": "stdout",
     "output_type": "stream",
     "text": [
      "['FALSE', '63', 'MALE', 'TYPICAL_ANGINA', '145', '233']\n",
      "['TRUE', '67', 'MALE', 'ASYMPTOMATIC', '160', '286']\n",
      "['TRUE', '67', 'MALE', 'ASYMPTOMATIC', '120', '229']\n",
      "['FALSE', '37', 'MALE', 'NON_ANGINAL', '130', '250']\n",
      "['FALSE', '41', 'FEMALE', 'ATYPICAL_ANGINA', '130', '204']\n",
      "['FALSE', '56', 'MALE', 'ATYPICAL_ANGINA', '120', '236']\n",
      "['TRUE', '62', 'FEMALE', 'ASYMPTOMATIC', '140', '268']\n",
      "['FALSE', '57', 'FEMALE', 'ASYMPTOMATIC', '120', '354']\n",
      "['TRUE', '63', 'MALE', 'ASYMPTOMATIC', '130', '254']\n",
      "['TRUE', '53', 'MALE', 'ASYMPTOMATIC', '140', '203']\n",
      "['FALSE', '57', 'MALE', 'ASYMPTOMATIC', '140', '192']\n",
      "['FALSE', '56', 'FEMALE', 'ATYPICAL_ANGINA', '140', '294']\n",
      "['TRUE', '56', 'MALE', 'NON_ANGINAL', '130', '256']\n",
      "['FALSE', '44', 'MALE', 'ATYPICAL_ANGINA', '120', '263']\n",
      "['FALSE', '52', 'MALE', 'NON_ANGINAL', '172', '199']\n",
      "['FALSE', '57', 'MALE', 'NON_ANGINAL', '150', '168']\n",
      "['TRUE', '48', 'MALE', 'ATYPICAL_ANGINA', '110', '229']\n",
      "['FALSE', '54', 'MALE', 'ASYMPTOMATIC', '140', '239']\n",
      "['FALSE', '48', 'FEMALE', 'NON_ANGINAL', '130', '275']\n",
      "['FALSE', '49', 'MALE', 'ATYPICAL_ANGINA', '130', '266']\n",
      "['FALSE', '64', 'MALE', 'TYPICAL_ANGINA', '110', '211']\n",
      "['FALSE', '58', 'FEMALE', 'TYPICAL_ANGINA', '150', '283']\n",
      "['TRUE', '58', 'MALE', 'ATYPICAL_ANGINA', '120', '284']\n",
      "['TRUE', '58', 'MALE', 'NON_ANGINAL', '132', '224']\n",
      "['TRUE', '60', 'MALE', 'ASYMPTOMATIC', '130', '206']\n",
      "['FALSE', '50', 'FEMALE', 'NON_ANGINAL', '120', '219']\n",
      "['FALSE', '58', 'FEMALE', 'NON_ANGINAL', '120', '340']\n",
      "['FALSE', '66', 'FEMALE', 'TYPICAL_ANGINA', '150', '226']\n",
      "['FALSE', '43', 'MALE', 'ASYMPTOMATIC', '150', '247']\n",
      "['TRUE', '40', 'MALE', 'ASYMPTOMATIC', '110', '167']\n",
      "['FALSE', '69', 'FEMALE', 'TYPICAL_ANGINA', '140', '239']\n",
      "['TRUE', '60', 'MALE', 'ASYMPTOMATIC', '117', '230']\n",
      "['TRUE', '64', 'MALE', 'NON_ANGINAL', '140', '335']\n",
      "['FALSE', '59', 'MALE', 'ASYMPTOMATIC', '135', '234']\n",
      "['FALSE', '44', 'MALE', 'NON_ANGINAL', '130', '233']\n",
      "['FALSE', '42', 'MALE', 'ASYMPTOMATIC', '140', '226']\n",
      "['TRUE', '43', 'MALE', 'ASYMPTOMATIC', '120', '177']\n",
      "['TRUE', '57', 'MALE', 'ASYMPTOMATIC', '150', '276']\n",
      "['TRUE', '55', 'MALE', 'ASYMPTOMATIC', '132', '353']\n",
      "['FALSE', '61', 'MALE', 'NON_ANGINAL', '150', '243']\n"
     ]
    }
   ],
   "source": [
    "import csv\n",
    "with open(r'D:\\New docs/M1_Data.txt') as csvfile: \n",
    "    readCSV = csv.reader(csvfile) \n",
    "    for row in readCSV: \n",
    "        # print each row as read by the csv.reader function \n",
    "        print(row)"
   ]
  },
  {
   "cell_type": "markdown",
   "id": "18ad7c1a",
   "metadata": {},
   "source": [
    "#  Question 1-"
   ]
  },
  {
   "cell_type": "code",
   "execution_count": 3,
   "id": "b0ee14b4",
   "metadata": {},
   "outputs": [],
   "source": [
    "import csv\n",
    "\n",
    "#creating a set of new lists for the different types of data given below\n",
    "\n",
    "diagnosis = []\n",
    "age = []\n",
    "gender = []\n",
    "type_of_chest_pain = []\n",
    "blood_pressure_reading = []\n",
    "cholestrol_level = []\n",
    "\n",
    "#The following opens the csv file which consists of the data so the path is given.\n",
    "with open(r'D:\\New docs/M1_Data.txt') as csvfile: \n",
    "        \n",
    "    #creating a reader to read the data in the file\n",
    "    readCSV = csv.reader(csvfile)  \n",
    "    \n",
    "    for row in readCSV:\n",
    "        #appending the particular value of Diagnosis attribute to its list\n",
    "        diagnosis.append(row[0])\n",
    "        \n",
    "        #appending the particular value of Age attribute to its list and as it is a number int is included\n",
    "        age.append(int(row[1]))\n",
    "        \n",
    "        #appending the particular value of Gender attribute to its list\n",
    "        gender.append(row[2])\n",
    "        \n",
    "        #appending the particular value of Type of chest pain attribute to its list\n",
    "        type_of_chest_pain.append(row[3])\n",
    "        \n",
    "        #appending the particular value of Blood pressure reading attribute to its list and as it is a number int is included\n",
    "        blood_pressure_reading.append(int(row[4]))\n",
    "     \n",
    "        #appending the particular value of Cholestrol level attribute to its list\n",
    "        cholestrol_level.append(int(row[5]))\n",
    "                \n",
    "        "
   ]
  },
  {
   "cell_type": "markdown",
   "id": "5dd50780",
   "metadata": {},
   "source": [
    "Printing the distinct lists-"
   ]
  },
  {
   "cell_type": "code",
   "execution_count": 36,
   "id": "f8c60186",
   "metadata": {},
   "outputs": [
    {
     "name": "stdout",
     "output_type": "stream",
     "text": [
      "['FALSE', 'TRUE', 'TRUE', 'FALSE', 'FALSE', 'FALSE', 'TRUE', 'FALSE', 'TRUE', 'TRUE', 'FALSE', 'FALSE', 'TRUE', 'FALSE', 'FALSE', 'FALSE', 'TRUE', 'FALSE', 'FALSE', 'FALSE', 'FALSE', 'FALSE', 'TRUE', 'TRUE', 'TRUE', 'FALSE', 'FALSE', 'FALSE', 'FALSE', 'TRUE', 'FALSE', 'TRUE', 'TRUE', 'FALSE', 'FALSE', 'FALSE', 'TRUE', 'TRUE', 'TRUE', 'FALSE']\n"
     ]
    }
   ],
   "source": [
    "print (diagnosis)\n",
    "#printing diagnosis"
   ]
  },
  {
   "cell_type": "code",
   "execution_count": 38,
   "id": "aa35cc1d",
   "metadata": {},
   "outputs": [
    {
     "name": "stdout",
     "output_type": "stream",
     "text": [
      "[63, 67, 67, 37, 41, 56, 62, 57, 63, 53, 57, 56, 56, 44, 52, 57, 48, 54, 48, 49, 64, 58, 58, 58, 60, 50, 58, 66, 43, 40, 69, 60, 64, 59, 44, 42, 43, 57, 55, 61]\n"
     ]
    }
   ],
   "source": [
    "print (age)\n",
    "#printing age"
   ]
  },
  {
   "cell_type": "code",
   "execution_count": 43,
   "id": "f2353e7e",
   "metadata": {},
   "outputs": [
    {
     "name": "stdout",
     "output_type": "stream",
     "text": [
      "['MALE', 'MALE', 'MALE', 'MALE', 'FEMALE', 'MALE', 'FEMALE', 'FEMALE', 'MALE', 'MALE', 'MALE', 'FEMALE', 'MALE', 'MALE', 'MALE', 'MALE', 'MALE', 'MALE', 'FEMALE', 'MALE', 'MALE', 'FEMALE', 'MALE', 'MALE', 'MALE', 'FEMALE', 'FEMALE', 'FEMALE', 'MALE', 'MALE', 'FEMALE', 'MALE', 'MALE', 'MALE', 'MALE', 'MALE', 'MALE', 'MALE', 'MALE', 'MALE']\n"
     ]
    }
   ],
   "source": [
    "print (gender)\n",
    "#printing diagnosis"
   ]
  },
  {
   "cell_type": "code",
   "execution_count": 108,
   "id": "7709ebc4",
   "metadata": {},
   "outputs": [
    {
     "name": "stdout",
     "output_type": "stream",
     "text": [
      "['TYPICAL_ANGINA', 'ASYMPTOMATIC', 'ASYMPTOMATIC', 'NON_ANGINAL', 'ATYPICAL_ANGINA', 'ATYPICAL_ANGINA', 'ASYMPTOMATIC', 'ASYMPTOMATIC', 'ASYMPTOMATIC', 'ASYMPTOMATIC', 'ASYMPTOMATIC', 'ATYPICAL_ANGINA', 'NON_ANGINAL', 'ATYPICAL_ANGINA', 'NON_ANGINAL', 'NON_ANGINAL', 'ATYPICAL_ANGINA', 'ASYMPTOMATIC', 'NON_ANGINAL', 'ATYPICAL_ANGINA', 'TYPICAL_ANGINA', 'TYPICAL_ANGINA', 'ATYPICAL_ANGINA', 'NON_ANGINAL', 'ASYMPTOMATIC', 'NON_ANGINAL', 'NON_ANGINAL', 'TYPICAL_ANGINA', 'ASYMPTOMATIC', 'ASYMPTOMATIC', 'TYPICAL_ANGINA', 'ASYMPTOMATIC', 'NON_ANGINAL', 'ASYMPTOMATIC', 'NON_ANGINAL', 'ASYMPTOMATIC', 'ASYMPTOMATIC', 'ASYMPTOMATIC', 'ASYMPTOMATIC', 'NON_ANGINAL']\n"
     ]
    }
   ],
   "source": [
    "print (type_of_chest_pain)\n",
    "#printing chest pain"
   ]
  },
  {
   "cell_type": "code",
   "execution_count": 106,
   "id": "69976930",
   "metadata": {},
   "outputs": [
    {
     "name": "stdout",
     "output_type": "stream",
     "text": [
      "[145, 160, 120, 130, 130, 120, 140, 120, 130, 140, 140, 140, 130, 120, 172, 150, 110, 140, 130, 130, 110, 150, 120, 132, 130, 120, 120, 150, 150, 110, 140, 117, 140, 135, 130, 140, 120, 150, 132, 150]\n"
     ]
    }
   ],
   "source": [
    "print (blood_pressure_reading)\n",
    "#printing blood pressure reading"
   ]
  },
  {
   "cell_type": "code",
   "execution_count": 103,
   "id": "638f276c",
   "metadata": {},
   "outputs": [
    {
     "name": "stdout",
     "output_type": "stream",
     "text": [
      "[233, 286, 229, 250, 204, 236, 268, 354, 254, 203, 192, 294, 256, 263, 199, 168, 229, 239, 275, 266, 211, 283, 284, 224, 206, 219, 340, 226, 247, 167, 239, 230, 335, 234, 233, 226, 177, 276, 353, 243]\n"
     ]
    }
   ],
   "source": [
    "print (cholestrol_level)\n",
    "#printing cholestrol level"
   ]
  },
  {
   "cell_type": "markdown",
   "id": "3c74ef21",
   "metadata": {},
   "source": [
    "# Question 2-\n",
    "\n",
    "Creating a new list and using len funtion gives the number of elements in the blood pressure list and range function provides the number of iteration it has to go through. The following code checks the blood pressure if its greater than 140 and printing the new list provides all the index values greater than 140."
   ]
  },
  {
   "cell_type": "code",
   "execution_count": 107,
   "id": "b6f0b0f6",
   "metadata": {},
   "outputs": [
    {
     "name": "stdout",
     "output_type": "stream",
     "text": [
      "[0, 1, 14, 15, 21, 27, 28, 37, 39]\n"
     ]
    }
   ],
   "source": [
    "bpr_140 = []\n",
    "#using FOR to find the length of blood pressure.\n",
    "for i in range(len(blood_pressure_reading)):\n",
    "    \n",
    "    if blood_pressure_reading[i] >140:\n",
    "        \n",
    "        bpr_140.append(i)\n",
    "        \n",
    "\n",
    "print (bpr_140)\n",
    "                \n",
    "        "
   ]
  },
  {
   "cell_type": "markdown",
   "id": "d03202ef",
   "metadata": {},
   "source": [
    "# Question 3-\n",
    "Created a new list for holding the type of pain of patients whose blood pressure is higher than 140 then a for-loop is used to iterate through the bpr_140 list."
   ]
  },
  {
   "cell_type": "code",
   "execution_count": 112,
   "id": "a1daa2fc",
   "metadata": {},
   "outputs": [
    {
     "name": "stdout",
     "output_type": "stream",
     "text": [
      "['TYPICAL_ANGINA', 'ASYMPTOMATIC', 'NON_ANGINAL', 'NON_ANGINAL', 'TYPICAL_ANGINA', 'TYPICAL_ANGINA', 'ASYMPTOMATIC', 'ASYMPTOMATIC', 'NON_ANGINAL']\n"
     ]
    }
   ],
   "source": [
    "type_of_pain_140 = []\n",
    "#using FOR to find the blood pressure grreater than 140\n",
    "for i in bpr_140:\n",
    "        \n",
    "        type_of_pain_140.append(type_of_chest_pain[i])\n",
    "#printing the new list\n",
    "print (type_of_pain_140)        "
   ]
  },
  {
   "cell_type": "markdown",
   "id": "92514fb9",
   "metadata": {},
   "source": [
    "# Question 4-\n",
    "New list is again created to hold the index values as per the question of patients who are female and have a pain type of asymptomatic and using if-else to check if the current gender value is \"FEMALE\" and the corresponding pain type value from the type_of_chest_pain is not Asymptomatic so ! is used for the NOT expression. Finally printing the new list it on the final statement."
   ]
  },
  {
   "cell_type": "code",
   "execution_count": 121,
   "id": "de63542a",
   "metadata": {},
   "outputs": [
    {
     "name": "stdout",
     "output_type": "stream",
     "text": [
      "[4, 11, 18, 21, 25, 26, 27, 30]\n"
     ]
    }
   ],
   "source": [
    "asymptomatic_female = []\n",
    "\n",
    "for i in range(len(gender)):\n",
    "    \n",
    "    if gender[i] == \"FEMALE\" and type_of_chest_pain[i] != \"ASYMPTOMATIC\":\n",
    "        \n",
    "        asymptomatic_female.append(i)\n",
    "#printing the new list\n",
    "print(asymptomatic_female)"
   ]
  },
  {
   "cell_type": "markdown",
   "id": "c5ae3383",
   "metadata": {},
   "source": [
    "# Question 5\n",
    "New list created to hold the index values of patients having age less than 56 and diagnosis of \"TRUE\". Use of if statement to check if the age value less than 56 and corresponding diagnosis value is \"TRUE\". Finally printing the  new list which gives the which contains the index values of patients `"
   ]
  },
  {
   "cell_type": "code",
   "execution_count": 116,
   "id": "88662d33",
   "metadata": {},
   "outputs": [
    {
     "name": "stdout",
     "output_type": "stream",
     "text": [
      "[9, 16, 29, 36, 38]\n"
     ]
    }
   ],
   "source": [
    "diagnosis_56 = []\n",
    "\n",
    "for i in range(len(age)):\n",
    "    if int(age[i]) < 56 and diagnosis[i] == \"TRUE\":\n",
    "        diagnosis_56.append(i)\n",
    "print (diagnosis_56)"
   ]
  },
  {
   "cell_type": "markdown",
   "id": "c2a72ea1",
   "metadata": {},
   "source": [
    "# Question 6\n",
    "Calculating the average age, the median blood pressure and the standar deviation of cholestrol reradings, importing built-in statistics module to calculate the median and using it on statistics.median function and printing it. "
   ]
  },
  {
   "cell_type": "code",
   "execution_count": 118,
   "id": "b7ae2863",
   "metadata": {},
   "outputs": [
    {
     "name": "stdout",
     "output_type": "stream",
     "text": [
      "Average age is = 54.9\n"
     ]
    }
   ],
   "source": [
    "avg_age = sum(age) / len(age)\n",
    "print (\"Average age is =\" , avg_age)"
   ]
  },
  {
   "cell_type": "code",
   "execution_count": 119,
   "id": "eade68d5",
   "metadata": {},
   "outputs": [
    {
     "name": "stdout",
     "output_type": "stream",
     "text": [
      "Median BPR is = 131.0\n"
     ]
    }
   ],
   "source": [
    "import statistics\n",
    "\n",
    "median_bpr = statistics.median(blood_pressure_reading)\n",
    "\n",
    "print(\"Median BPR is =\" , median_bpr)"
   ]
  },
  {
   "cell_type": "code",
   "execution_count": 120,
   "id": "29abdf44",
   "metadata": {},
   "outputs": [
    {
     "name": "stdout",
     "output_type": "stream",
     "text": [
      "Standar deviation of cholestrol is =  45.815677251911076\n"
     ]
    }
   ],
   "source": [
    "cholestrol_sd = statistics.stdev(cholestrol_level)\n",
    "print(\"Standar deviation of cholestrol is = \" , cholestrol_sd)"
   ]
  }
 ],
 "metadata": {
  "kernelspec": {
   "display_name": "Python 3 (ipykernel)",
   "language": "python",
   "name": "python3"
  },
  "language_info": {
   "codemirror_mode": {
    "name": "ipython",
    "version": 3
   },
   "file_extension": ".py",
   "mimetype": "text/x-python",
   "name": "python",
   "nbconvert_exporter": "python",
   "pygments_lexer": "ipython3",
   "version": "3.9.13"
  }
 },
 "nbformat": 4,
 "nbformat_minor": 5
}
